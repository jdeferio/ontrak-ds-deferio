{
 "cells": [
  {
   "cell_type": "markdown",
   "metadata": {},
   "source": [
    "### Data Scientist Technical Assessment\n",
    "\n",
    "1. Identify population that graduated on or after 1/1/2019\n",
    "2. Find the correct enrolled date for each member that had graduated on or after 1/1/2019 using the following business logic:\n",
    "    - Any member that has an enrollment date.\n",
    "    - Enrollment date will be the first date of enrollment as entered for a member unless:\n",
    "        * Member has graduated and reenrolled:\n",
    "            * Then use the enrollment date following the latest graduation date\n",
    "        * Member has disenrolled and reenrolled >180 days _after_ disenrollment\n",
    "            * Then use the enrollment date following the disenrollment date\n",
    "3. The final output should be member_id, payor, enrollment_date and graduation_date for the graduated population on or after 1/1/2019\n",
    "\n",
    "\n",
    "__Assumptions__\n",
    "* A member can be enrolled in several different Health Plans (payor) at any given point, but this has no obvious impact on Ontrak enrollment for the purposes of this exercise. \n",
    "* Requested payor is in the context of the targeted enrollement date\n",
    "* Number of graduations is irrelevant, therefore there will be 1 target enrollment date per graduated member (based on the provided business logic and question parameters)."
   ]
  },
  {
   "cell_type": "code",
   "execution_count": 11,
   "metadata": {},
   "outputs": [],
   "source": [
    "import pandas as pd\n",
    "import numpy as np\n",
    "import uuid"
   ]
  },
  {
   "cell_type": "code",
   "execution_count": 3,
   "metadata": {},
   "outputs": [],
   "source": [
    "TO_GRAD = 365\n",
    "TO_RESET = 180"
   ]
  },
  {
   "cell_type": "code",
   "execution_count": 2,
   "metadata": {},
   "outputs": [
    {
     "data": {
      "text/plain": [
       "['instructions', 'data']"
      ]
     },
     "execution_count": 2,
     "metadata": {},
     "output_type": "execute_result"
    }
   ],
   "source": [
    "pd.ExcelFile('Data Scientist Technical Excercise.xlsx').sheet_names"
   ]
  },
  {
   "cell_type": "code",
   "execution_count": 20,
   "metadata": {},
   "outputs": [],
   "source": [
    "rawdata = pd.read_excel('Data Scientist Technical Excercise.xlsx', sheet_name='data', dtype = {'fake_id':str}, parse_dates = ['StatusDate'])"
   ]
  },
  {
   "cell_type": "code",
   "execution_count": 5,
   "metadata": {},
   "outputs": [],
   "source": [
    "def process_raw(rdata):\n",
    "    \"\"\"Ingests raw dataframe and performs the following functions:\n",
    "        \n",
    "        1. Assign unique ID associated with each event\n",
    "        2. Recode the Status column to int (0:enroll, 1:disenroll, 2:graduate)\n",
    "        3. Sort dataframe by fake_id (member_id), StatusDate, and Status -> ascending\n",
    "        4. Drop rows with missing dates and standardize values to datetime64\n",
    "        \n",
    "    Returns: Processed DataFrame (data_sorted)\n",
    "    \"\"\"\n",
    "    encode = {\n",
    "        'Enrolled': 0,\n",
    "        'Disenrolled': 1,\n",
    "        'Graduated': 2,\n",
    "    }\n",
    "    rdata['eventID'] = [uuid.uuid4() for i in range(len(rdata))]\n",
    "    rdata['eventStatus'] = [encode.get(x) for x in rdata['Status']]\n",
    "    data_sorted = rdata.sort_values(\n",
    "        by=['fake_id', 'StatusDate', 'eventStatus'], ascending=[True, True, True]\n",
    "    )\n",
    "    \n",
    "    data_sorted_clean = data_sorted.dropna(subset=['StatusDate'], axis=0)\n",
    "    dateval = lambda x: pd.to_datetime(x, format='%Y-%m-%d')\n",
    "    data_sorted_clean['StatusDate'] = data_sorted_clean['StatusDate'].apply(dateval)\n",
    "    \n",
    "    return data_sorted_clean\n",
    "\n",
    "\n",
    "def find_graduated(data):\n",
    "    \"\"\"Ingests the processed DataFrame to identify members whom had graduated on or after\n",
    "    2019-01-01.\n",
    "    \n",
    "    Returns: DataFrame containing all events for graduated members (data_grad_sort)\n",
    "    \"\"\"\n",
    "    \n",
    "    ix_status = data['eventStatus'] == 2\n",
    "    ix_date = data['StatusDate'] >= pd.to_datetime('2019-01-01', format='%Y-%m-%d')\n",
    "    \n",
    "    grads = data.loc[ix_status & ix_date]\n",
    "    grad_ids = set(grads['fake_id'].tolist())\n",
    "\n",
    "    data['is_grad'] = data['fake_id'].apply(lambda x: 1 if x in grad_ids else 0)\n",
    "    \n",
    "    data_grad = data.loc[data['is_grad'] == 1]\n",
    "    data_grad = data_grad.sort_values(\n",
    "        by=['fake_id', 'StatusDate', 'eventStatus'], ascending=[True, True, True]\n",
    "    )\n",
    "    data_grad.drop(columns=['is_grad'], inplace=True)\n",
    "    \n",
    "    #return data_grad\n",
    "    return grad_ids\n",
    "\n",
    "\n",
    "def find_enrollment(id_list, data):\n",
    "    \"\"\"For all graduated members, this function will find the appropriate enrollment date\n",
    "    given business logic: \n",
    "    \n",
    "    Enrollment date will be the first date of enrollment as entered for a member unless:\n",
    "        * Member has graduated and reenrolled:\n",
    "            * Then use the enrollment date following the latest graduation date\n",
    "        * Member has disenrolled and reenrolled >180 days after disenrollment\n",
    "            * Then use the enrollment date following the disenrollment date\n",
    "    \n",
    "    Returns: Response DataFrame containing member id, payor, enrollment date, grad date and health plan\n",
    "    \"\"\"\n",
    "\n",
    "    cols = [\n",
    "        'member_id', \n",
    "        'payor', \n",
    "        'enroll_date', \n",
    "        'graduation_date', \n",
    "        'short_grad_time'\n",
    "    ]\n",
    "    response = pd.DataFrame(columns=cols)\n",
    "    # grad_id_list = list(set(data2.fake_id))\n",
    "    \n",
    "    # iterate over each graduated member\n",
    "    for gid in id_list:\n",
    "        ix_id = data['fake_id'] == gid\n",
    "        tmp_df = data.loc[ix_id] # filter for member_id ('fake_id')\n",
    "        \n",
    "        tmp_df = tmp_df.sort_values(\n",
    "            by=['StatusDate', 'eventStatus'], ascending=[True, True]\n",
    "        ).copy()\n",
    "        \n",
    "        tmp_df_tuples = list(tmp_df.itertuples(index=False))\n",
    "\n",
    "        # establish a hash dict to remember values\n",
    "        seen = {}\n",
    "        seen['member_id'] = grad_id\n",
    "        seen['short_grad_time'] = 0\n",
    "        \n",
    "        for i in tmp_df_tuples:\n",
    "            # record earliest enrollment and payor\n",
    "            if i.Status == 'Enrolled' and 'enroll_date' not in seen:\n",
    "                seen['enroll_date'] = i.StatusDate\n",
    "                seen['payor'] = i.fake_health_plan\n",
    "                continue\n",
    "            \n",
    "            # record disenrollment\n",
    "            if i.Status == 'Disenrolled':\n",
    "                seen['disenroll_date'] = i.StatusDate\n",
    "                continue\n",
    "            \n",
    "            # account for multiple enrollment dates and graduation\n",
    "            if i.Status == 'Enrolled' and 'enroll_date' in seen:\n",
    "                if 'graduation_date' in seen:\n",
    "                    seen['enroll_date'] = i.StatusDate\n",
    "                    seen['payor'] = i.fake_health_plan\n",
    "                    continue\n",
    "\n",
    "                if 'disenroll_date' not in seen:\n",
    "                    seen['enroll_date2'] = i.StatusDate\n",
    "                    seen['payor2'] = i.fake_health_plan\n",
    "                    continue\n",
    "                if (i.StatusDate - seen['disenroll_date']).days > TO_RESET:\n",
    "                    seen['enroll_date'] = i.StatusDate\n",
    "                    continue\n",
    "            \n",
    "            # record graduation dates, check if graduation meets time criteria \n",
    "            if i.Status == 'Graduated':\n",
    "                seen['graduation_date'] = i.StatusDate\n",
    "                if (seen['graduation_date'] - seen['enroll_date']).days >= TO_GRAD:\n",
    "                    continue\n",
    "                \n",
    "                if 'enroll_date2' in seen:\n",
    "                    if (seen['graduation_date'] - seen['enroll_date2']).days >= TO_GRAD:\n",
    "                        seen['enroll_date'] = seen['enroll_date2']\n",
    "                        seen['payor'] = seen['payor2']\n",
    "                        continue\n",
    "                \n",
    "                if (seen['graduation_date'] - seen['enroll_date']).days < TO_GRAD:\n",
    "                    seen['short_grad_time'] = 1\n",
    "\n",
    "        seen_df = pd.DataFrame(seen, index=[0])\n",
    "        seen_df = seen_df.loc[:,cols]\n",
    "        response = pd.concat(\n",
    "            [response, seen_df], ignore_index=True, axis=0, sort=False\n",
    "        )\n",
    "        \n",
    "    return response"
   ]
  },
  {
   "cell_type": "code",
   "execution_count": 7,
   "metadata": {},
   "outputs": [],
   "source": [
    "df = process_raw(rawdata)\n",
    "df_grad = find_graduated(df)\n",
    "result = find_enrollment(df_grad)"
   ]
  },
  {
   "cell_type": "code",
   "execution_count": 9,
   "metadata": {},
   "outputs": [
    {
     "output_type": "execute_result",
     "data": {
      "text/plain": [
       "fake_id                     object\n",
       "Status                      object\n",
       "StatusDate          datetime64[ns]\n",
       "fake_health_plan            object\n",
       "eventID                     object\n",
       "eventStatus                  int64\n",
       "dtype: object"
      ]
     },
     "metadata": {},
     "execution_count": 9
    }
   ],
   "source": [
    "result"
   ]
  },
  {
   "cell_type": "code",
   "execution_count": 71,
   "metadata": {},
   "outputs": [],
   "source": [
    "class Solution:\n",
    "    def __init__(self, rdata):\n",
    "        self.rdata = rdata\n",
    "        self.TO_GRAD = 365\n",
    "        self.TO_RESET = 180\n",
    "\n",
    "\n",
    "    def process_raw(self):\n",
    "        \"\"\"Ingests raw dataframe and performs the following functions:\n",
    "            \n",
    "            1. Assign unique ID associated with each event\n",
    "            2. Recode the Status column to int (0:enroll, 1:disenroll, 2:graduate)\n",
    "            2. Sort dataframe by fake_id (member_id), StatusDate, and Status -> ascending\n",
    "            3. Drop rows with missing dates and standardize values to datetime64\n",
    "            \n",
    "        Returns: Processed DataFrame (data_sorted)\n",
    "        \"\"\"\n",
    "        encode = {\n",
    "            'Enrolled': 0,\n",
    "            'Disenrolled': 1,\n",
    "            'Graduated': 2,\n",
    "        }\n",
    "        self.rdata['eventStatus'] = [encode.get(x) for x in self.rdata['Status']]\n",
    "        data_sorted = self.rdata.sort_values(\n",
    "            by=['fake_id', 'StatusDate', 'eventStatus'], ascending=[True, True, True]\n",
    "        )\n",
    "        \n",
    "        self.df = data_sorted.dropna(subset=['StatusDate'], axis=0)\n",
    "        dateval = lambda x: pd.to_datetime(x, format='%Y-%m-%d')\n",
    "        self.df['StatusDate'] = self.df['StatusDate'].apply(dateval)\n",
    "\n",
    "\n",
    "    def find_graduated(self):\n",
    "        \"\"\"Ingests the processed DataFrame to identify members whom had graduated on or after\n",
    "        2019-01-01.\n",
    "        \n",
    "        Returns: DataFrame containing all events for graduated members (data_grad_sort)\n",
    "        \"\"\"\n",
    "        \n",
    "        ix_status = self.df['Status'] == 'Graduated'\n",
    "        ix_date = self.df['StatusDate'] >= pd.to_datetime('2019-01-01', format='%Y-%m-%d')\n",
    "        \n",
    "        grads = self.df.loc[ix_status & ix_date]\n",
    "        self.id_list = sorted(list(set(grads['fake_id'])))\n",
    "\n",
    "\n",
    "    def find_enrollment(self):\n",
    "        \"\"\"For all graduated members, this function will find the appropriate enrollment date\n",
    "        given business logic: \n",
    "        \n",
    "        Enrollment date will be the first date of enrollment as entered for a member unless:\n",
    "            * Member has graduated and reenrolled:\n",
    "                * Then use the enrollment date following the latest graduation date\n",
    "            * Member has disenrolled and reenrolled >180 days after disenrollment\n",
    "                * Then use the enrollment date following the disenrollment date\n",
    "        \n",
    "        Returns: Response DataFrame containing member id, payor, enrollment date, grad date and health plan\n",
    "        \"\"\"\n",
    "\n",
    "        cols = [\n",
    "            'member_id', \n",
    "            'payor', \n",
    "            'enroll_date', \n",
    "            'graduation_date', \n",
    "            'short_grad_time'\n",
    "        ]\n",
    "        self.response = pd.DataFrame(columns=cols)\n",
    "        # grad_id_list = list(set(data2.fake_id))\n",
    "        \n",
    "        # iterate over each graduated member\n",
    "        for member in self.id_list:\n",
    "            ix_id = self.df['fake_id'] == member\n",
    "            tmp_df = self.df.loc[ix_id] # filter for member_id ('fake_id')\n",
    "            \n",
    "            tmp_df = tmp_df.sort_values(\n",
    "                by=['StatusDate', 'eventStatus'], ascending=[True, True]\n",
    "            ).copy()\n",
    "            \n",
    "            tmp_df_tuples = list(tmp_df.itertuples(index=False))\n",
    "\n",
    "            # establish a hash dict to remember values\n",
    "            seen = {}\n",
    "            seen['member_id'] = member\n",
    "            seen['short_grad_time'] = 0\n",
    "            \n",
    "            for i in tmp_df_tuples:\n",
    "                # record earliest enrollment and payor\n",
    "                if i.Status == 'Enrolled' and 'enroll_date' not in seen:\n",
    "                    seen['enroll_date'] = i.StatusDate\n",
    "                    seen['payor'] = i.fake_health_plan\n",
    "                    continue\n",
    "                \n",
    "                # record disenrollment\n",
    "                if i.Status == 'Disenrolled':\n",
    "                    seen['disenroll_date'] = i.StatusDate\n",
    "                    continue\n",
    "                \n",
    "                # account for multiple enrollment dates and graduation\n",
    "                if i.Status == 'Enrolled' and 'enroll_date' in seen:\n",
    "                    if 'graduation_date' in seen:\n",
    "                        seen['enroll_date'] = i.StatusDate\n",
    "                        seen['payor'] = i.fake_health_plan\n",
    "                        continue\n",
    "\n",
    "                    if 'disenroll_date' not in seen:\n",
    "                        seen['enroll_date2'] = i.StatusDate\n",
    "                        seen['payor2'] = i.fake_health_plan\n",
    "                        continue\n",
    "                    if (i.StatusDate - seen['disenroll_date']).days > self.TO_RESET:\n",
    "                        seen['enroll_date'] = i.StatusDate\n",
    "                        continue\n",
    "                \n",
    "                # record graduation dates, check if graduation meets time criteria \n",
    "                if i.Status == 'Graduated':\n",
    "                    seen['graduation_date'] = i.StatusDate\n",
    "                    if (seen['graduation_date'] - seen['enroll_date']).days >= self.TO_GRAD:\n",
    "                        continue\n",
    "                    \n",
    "                    if 'enroll_date2' in seen:\n",
    "                        if (seen['graduation_date'] - seen['enroll_date2']).days >= self.TO_GRAD:\n",
    "                            seen['enroll_date'] = seen['enroll_date2']\n",
    "                            seen['payor'] = seen['payor2']\n",
    "                            continue\n",
    "                    \n",
    "                    if (seen['graduation_date'] - seen['enroll_date']).days < self.TO_GRAD:\n",
    "                        seen['short_grad_time'] = 1\n",
    "\n",
    "            seen_df = pd.DataFrame(seen, index=[0])\n",
    "            seen_df = seen_df.loc[:,cols]\n",
    "\n",
    "            self.response = pd.concat(\n",
    "                [self.response, seen_df], ignore_index=True, axis=0, sort=False\n",
    "            )\n",
    "\n",
    "        self.response.to_csv('test_response.csv', encoding='utf-8', index=False)"
   ]
  },
  {
   "cell_type": "code",
   "execution_count": 72,
   "metadata": {},
   "outputs": [],
   "source": [
    "sol = Solution(rawdata)\n",
    "test_df = sol.process_raw()\n",
    "test_ids = sol.find_graduated()\n",
    "sol.find_enrollment()"
   ]
  },
  {
   "cell_type": "code",
   "execution_count": 60,
   "metadata": {},
   "outputs": [
    {
     "output_type": "execute_result",
     "data": {
      "text/plain": [
       "         fake_id     Status StatusDate fake_health_plan  eventStatus\n",
       "66713  000061109   Enrolled 2018-11-15    Health Plan A            0\n",
       "66714  000061109  Graduated 2019-11-15    Health Plan A            2"
      ],
      "text/html": "<div>\n<style scoped>\n    .dataframe tbody tr th:only-of-type {\n        vertical-align: middle;\n    }\n\n    .dataframe tbody tr th {\n        vertical-align: top;\n    }\n\n    .dataframe thead th {\n        text-align: right;\n    }\n</style>\n<table border=\"1\" class=\"dataframe\">\n  <thead>\n    <tr style=\"text-align: right;\">\n      <th></th>\n      <th>fake_id</th>\n      <th>Status</th>\n      <th>StatusDate</th>\n      <th>fake_health_plan</th>\n      <th>eventStatus</th>\n    </tr>\n  </thead>\n  <tbody>\n    <tr>\n      <th>66713</th>\n      <td>000061109</td>\n      <td>Enrolled</td>\n      <td>2018-11-15</td>\n      <td>Health Plan A</td>\n      <td>0</td>\n    </tr>\n    <tr>\n      <th>66714</th>\n      <td>000061109</td>\n      <td>Graduated</td>\n      <td>2019-11-15</td>\n      <td>Health Plan A</td>\n      <td>2</td>\n    </tr>\n  </tbody>\n</table>\n</div>"
     },
     "metadata": {},
     "execution_count": 60
    }
   ],
   "source": [
    "test_df.loc[test_df['fake_id'] == '000061109']"
   ]
  },
  {
   "cell_type": "code",
   "execution_count": 87,
   "metadata": {},
   "outputs": [],
   "source": [
    "compare_class = pd.read_csv('ontrak_ds_deferio_result.csv', encoding='utf-8')\n",
    "compare_func = pd.read_csv('test_response.csv', encoding='utf-8') \n",
    "compare_class = compare_class.sort_values(\n",
    "            by=['member_id', 'enroll_date'], ascending=[True, True]).reset_index(drop=True)\n",
    "compare_func = compare_func.sort_values(\n",
    "            by=['member_id', 'enroll_date'], ascending=[True, True]).reset_index(drop=True)"
   ]
  },
  {
   "cell_type": "code",
   "execution_count": 92,
   "metadata": {},
   "outputs": [],
   "source": [
    "import datetime as dt"
   ]
  },
  {
   "cell_type": "code",
   "execution_count": 97,
   "metadata": {},
   "outputs": [
    {
     "output_type": "execute_result",
     "data": {
      "text/plain": [
       "'202101031526'"
      ]
     },
     "metadata": {},
     "execution_count": 97
    }
   ],
   "source": [
    "dt.datetime.today().strftime(format='%Y%m%d')"
   ]
  },
  {
   "cell_type": "code",
   "execution_count": 98,
   "metadata": {},
   "outputs": [
    {
     "output_type": "execute_result",
     "data": {
      "text/plain": [
       "False    77479\n",
       "Name: Status, dtype: int64"
      ]
     },
     "metadata": {},
     "execution_count": 98
    }
   ],
   "source": [
    "rawdata.Status.isna().value_counts()"
   ]
  },
  {
   "cell_type": "code",
   "execution_count": null,
   "metadata": {},
   "outputs": [],
   "source": []
  }
 ],
 "metadata": {
  "kernelspec": {
   "display_name": "Python 3",
   "language": "python",
   "name": "python3"
  },
  "language_info": {
   "codemirror_mode": {
    "name": "ipython",
    "version": 3
   },
   "file_extension": ".py",
   "mimetype": "text/x-python",
   "name": "python",
   "nbconvert_exporter": "python",
   "pygments_lexer": "ipython3",
   "version": "3.8.0-final"
  }
 },
 "nbformat": 4,
 "nbformat_minor": 4
}